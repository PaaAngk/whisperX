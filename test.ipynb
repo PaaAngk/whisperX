{
 "cells": [
  {
   "cell_type": "code",
   "execution_count": 3,
   "metadata": {},
   "outputs": [
    {
     "name": "stdout",
     "output_type": "stream",
     "text": [
      "CUDA доступна: True\n",
      "Имя GPU: NVIDIA GeForce RTX 3060\n",
      "Количество GPU: 1\n",
      "Результат умножения на GPU:\n",
      "tensor([[1.6120, 0.7868, 0.8878],\n",
      "        [1.3173, 0.8908, 0.8204],\n",
      "        [1.2739, 0.4439, 0.7478]], device='cuda:0')\n"
     ]
    }
   ],
   "source": [
    "import torch\n",
    "\n",
    "# Проверяем, доступен ли GPU (CUDA)\n",
    "print(\"CUDA доступна:\", torch.cuda.is_available())\n",
    "\n",
    "if torch.cuda.is_available():\n",
    "    print(\"Имя GPU:\", torch.cuda.get_device_name(0))\n",
    "    print(\"Количество GPU:\", torch.cuda.device_count())\n",
    "\n",
    "    # Простая проверка вычислений на GPU\n",
    "    x = torch.rand(3, 3).to(\"cuda\")\n",
    "    y = torch.rand(3, 3).to(\"cuda\")\n",
    "    z = torch.matmul(x, y)\n",
    "    print(\"Результат умножения на GPU:\")\n",
    "    print(z)\n",
    "else:\n",
    "    print(\"PyTorch использует CPU. GPU не найден или CUDA не установлена.\")\n"
   ]
  },
  {
   "cell_type": "code",
   "execution_count": null,
   "metadata": {},
   "outputs": [],
   "source": []
  }
 ],
 "metadata": {
  "kernelspec": {
   "display_name": "Python 3",
   "language": "python",
   "name": "python3"
  },
  "language_info": {
   "codemirror_mode": {
    "name": "ipython",
    "version": 3
   },
   "file_extension": ".py",
   "mimetype": "text/x-python",
   "name": "python",
   "nbconvert_exporter": "python",
   "pygments_lexer": "ipython3",
   "version": "3.12.6"
  }
 },
 "nbformat": 4,
 "nbformat_minor": 2
}
